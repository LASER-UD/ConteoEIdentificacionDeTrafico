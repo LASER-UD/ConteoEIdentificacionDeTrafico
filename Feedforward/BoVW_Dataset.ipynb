{
 "cells": [
  {
   "cell_type": "markdown",
   "metadata": {},
   "source": [
    "# Dataset bajo Bag of Visual Words\n",
    "\n",
    "Este notebook de Python tratará la creación del archivo con la cual se entrenará la red FeedForward para cada característica (si es vehículo o no, el tipo de vehículo y la marca del mismo), recuerde cambiar los datos con los cuales se hará al momento de inicializar el algoritmo."
   ]
  },
  {
   "cell_type": "code",
   "execution_count": 22,
   "metadata": {},
   "outputs": [
    {
     "name": "stdout",
     "output_type": "stream",
     "text": [
      "Requirement already satisfied: gdown in /opt/conda/lib/python3.7/site-packages (3.12.2)\n",
      "Requirement already satisfied: tqdm in /opt/conda/lib/python3.7/site-packages (from gdown) (4.43.0)\n",
      "Requirement already satisfied: six in /opt/conda/lib/python3.7/site-packages (from gdown) (1.14.0)\n",
      "Requirement already satisfied: requests[socks] in /opt/conda/lib/python3.7/site-packages (from gdown) (2.23.0)\n",
      "Requirement already satisfied: filelock in /opt/conda/lib/python3.7/site-packages (from gdown) (3.0.12)\n",
      "Requirement already satisfied: chardet<4,>=3.0.2 in /opt/conda/lib/python3.7/site-packages (from requests[socks]->gdown) (3.0.4)\n",
      "Requirement already satisfied: idna<3,>=2.5 in /opt/conda/lib/python3.7/site-packages (from requests[socks]->gdown) (2.9)\n",
      "Requirement already satisfied: urllib3!=1.25.0,!=1.25.1,<1.26,>=1.21.1 in /opt/conda/lib/python3.7/site-packages (from requests[socks]->gdown) (1.25.7)\n",
      "Requirement already satisfied: certifi>=2017.4.17 in /opt/conda/lib/python3.7/site-packages (from requests[socks]->gdown) (2019.11.28)\n",
      "Requirement already satisfied: PySocks!=1.5.7,>=1.5.6; extra == \"socks\" in /opt/conda/lib/python3.7/site-packages (from requests[socks]->gdown) (1.7.1)\n"
     ]
    },
    {
     "name": "stderr",
     "output_type": "stream",
     "text": [
      "Downloading...\n",
      "From: https://drive.google.com/uc?id=1tY5Nkrr7mEvkXjrlWPHyzx9DoDZhSD2l\n",
      "To: /home/slbejaranom/work/home/ConteoEIdentificacionDeTrafico/Feedforward/Vehiculos.rar\n",
      "44.3MB [00:06, 7.08MB/s]\n"
     ]
    },
    {
     "data": {
      "text/plain": [
       "'Vehiculos.rar'"
      ]
     },
     "execution_count": 22,
     "metadata": {},
     "output_type": "execute_result"
    }
   ],
   "source": [
    "#Importamos las librerías de costumbre\n",
    "import numpy as np\n",
    "import pandas as pd\n",
    "#Instalamos la librería que nos va a permitir bajar de drive\n",
    "!pip install gdown\n",
    "import gdown\n",
    "#Colocamos la URL del archivo\n",
    "url = 'https://drive.google.com/uc?id=1tY5Nkrr7mEvkXjrlWPHyzx9DoDZhSD2l'\n",
    "#Colocamos el nombre al archivo donde la información será guardada\n",
    "Nombre = 'Vehiculos.rar'\n",
    "#Lo descargamos\n",
    "gdown.download(url,Nombre,quiet=False)"
   ]
  },
  {
   "cell_type": "code",
   "execution_count": 23,
   "metadata": {},
   "outputs": [
    {
     "name": "stdout",
     "output_type": "stream",
     "text": [
      "Requirement already satisfied: patool in /opt/conda/lib/python3.7/site-packages (1.12)\n",
      "Requirement already satisfied: pyunpack in /opt/conda/lib/python3.7/site-packages (0.2.1)\n",
      "Requirement already satisfied: entrypoint2 in /opt/conda/lib/python3.7/site-packages (from pyunpack) (0.2.1)\n",
      "Requirement already satisfied: easyprocess in /opt/conda/lib/python3.7/site-packages (from pyunpack) (0.3)\n",
      "Requirement already satisfied: argparse in /opt/conda/lib/python3.7/site-packages (from entrypoint2->pyunpack) (1.4.0)\n",
      "Extraído satisfactoriamente\n"
     ]
    }
   ],
   "source": [
    "#Una vez descargado lo extraemos, para eso hacemos uso de las librerías patool y pyunpack\n",
    "!pip install patool pyunpack\n",
    "from pyunpack import Archive\n",
    "\n",
    "#Extraemos\n",
    "Archive('Vehiculos.rar').extractall('.')\n",
    "print(\"Extraído satisfactoriamente\")"
   ]
  },
  {
   "cell_type": "code",
   "execution_count": 24,
   "metadata": {},
   "outputs": [
    {
     "name": "stdout",
     "output_type": "stream",
     "text": [
      "Requirement already satisfied: opencv-contrib-python in /opt/conda/lib/python3.7/site-packages (4.4.0.44)\n",
      "Requirement already satisfied: numpy>=1.14.5 in /opt/conda/lib/python3.7/site-packages (from opencv-contrib-python) (1.18.1)\n"
     ]
    }
   ],
   "source": [
    "#Ahora vamos a pasar a la parte sucia, para eso primero instalamos opencv contrib\n",
    "!pip install opencv-contrib-python\n",
    "import cv2\n",
    "import os"
   ]
  },
  {
   "cell_type": "code",
   "execution_count": 25,
   "metadata": {},
   "outputs": [],
   "source": [
    "#Damos el nombre de la carpeta en la que se encuentra el dataset\n",
    "dataset = \"Vehiculos\"\n",
    "#Para las clases lo que hacemos es listar los nombres de las carpetas que se encuentran por dentro, se listan en orden alfabético\n",
    "training_names = os.listdir(dataset)\n",
    "\n",
    "#Ahora vamos a tener las variables para todas las imágenes\n",
    "#La variable image_paths guardará las rutas de las imágenes\n",
    "image_paths = []\n",
    "image_classes = []\n",
    "class_id = 0\n",
    "\n",
    "def imglist(path):\n",
    "    return [os.path.join(path,f) for f in os.listdir(path)]\n",
    "\n",
    "for training_name in training_names:\n",
    "    dir = os.path.join(dataset, training_name)\n",
    "    class_path = imglist(dir)\n",
    "    image_paths += class_path\n",
    "    image_classes += [class_id]*len(class_path)\n",
    "    class_id += 1"
   ]
  },
  {
   "cell_type": "code",
   "execution_count": 40,
   "metadata": {},
   "outputs": [],
   "source": [
    "#Ahora crearemos una lista para tener la lista de descriptores que hallaremos a partir del SIFT\n",
    "des_list = []\n",
    "#Creamos el extractor SIFT con 50 puntos clave por imagen\n",
    "sift = cv2.SIFT_create(50)\n",
    "#Cogemos cada imagen, le pasamos el SIFT y los apilamos en des_list de la siguiente manera\n",
    "#NOMBRE DEL ARCHIVO, DESCRIPTORES\n",
    "for image_path in image_paths:\n",
    "    im = cv2.imread(image_path)\n",
    "    kpts, des = sift.detectAndCompute(im, None)\n",
    "    des_list.append((image_path,des))"
   ]
  },
  {
   "cell_type": "code",
   "execution_count": 49,
   "metadata": {},
   "outputs": [],
   "source": [
    "#Ahora vamos a apilar todos los descriptores de manera vertical\n",
    "descriptors = des_list[0][1]\n",
    "#Hay que descartar los descriptores que son None\n",
    "for image_path, descriptor in des_list[1:]:\n",
    "    if descriptor is not None:\n",
    "        descriptors = np.vstack((descriptors, descriptor))\n",
    "        \n",
    "#Para hacer K Means es necesario que los datos estén en tipo float por lo que la siguiente linea es necesaria\n",
    "descriptors_float = descriptors.astype(float)"
   ]
  },
  {
   "cell_type": "markdown",
   "metadata": {},
   "source": [
    "## K Means\n",
    "Acá viene la parte del K Means, en esta sección es necesario el estudio del codo en la gráfica para saber qué valor de K podríamos utilizar que no sea de gasto computacional pero que tampoco quite exactitud"
   ]
  },
  {
   "cell_type": "code",
   "execution_count": null,
   "metadata": {},
   "outputs": [],
   "source": [
    "from scipy.cluster.vq import kmeans, vq\n",
    "\n",
    "varianzas = []\n",
    "num_clusters = range(50,2000,50)\n",
    "\n",
    "for k in num_clusters:\n",
    "    centroide, varianza = kmeans(descriptors_float, k, 1)\n",
    "    varianzas.append(varianza)\n",
    "    \n",
    "elbow_plot_data = pd.DataFrame({'Numero de clusters':num_clusters,\n",
    "                               'Varianza':varianzas})\n",
    "\n",
    "import seaborn as sns\n",
    "from matplotlib import pyplot as plt\n",
    "\n",
    "sns.lineplot(x = 'Numero de Clusters',y = 'Varianza', data = elbow_plot_data)\n",
    "\n",
    "plt.show()"
   ]
  },
  {
   "cell_type": "code",
   "execution_count": null,
   "metadata": {},
   "outputs": [],
   "source": []
  }
 ],
 "metadata": {
  "kernelspec": {
   "display_name": "Python 3",
   "language": "python",
   "name": "python3"
  },
  "language_info": {
   "codemirror_mode": {
    "name": "ipython",
    "version": 3
   },
   "file_extension": ".py",
   "mimetype": "text/x-python",
   "name": "python",
   "nbconvert_exporter": "python",
   "pygments_lexer": "ipython3",
   "version": "3.7.6"
  }
 },
 "nbformat": 4,
 "nbformat_minor": 4
}
