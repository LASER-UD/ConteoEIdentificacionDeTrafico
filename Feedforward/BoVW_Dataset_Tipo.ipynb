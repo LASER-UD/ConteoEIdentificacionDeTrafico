{
 "cells": [
  {
   "cell_type": "markdown",
   "metadata": {
    "id": "N1V0kwihpTEa"
   },
   "source": [
    "# Dataset bajo Bag of Visual Words\n",
    "\n",
    "Este notebook de Python tratará la creación del archivo con la cual se entrenará la red FeedForward para cada característica (si es vehículo o no, el tipo de vehículo y la marca del mismo), recuerde cambiar los datos con los cuales se hará al momento de inicializar el algoritmo."
   ]
  },
  {
   "cell_type": "code",
   "execution_count": 1,
   "metadata": {
    "id": "SiVeCJoapTEg",
    "outputId": "d5669bfb-80bb-4df6-ed0e-5feef4c7531d"
   },
   "outputs": [],
   "source": [
    "#Importamos las librerías de costumbre\n",
    "import numpy as np\n",
    "import pandas as pd\n",
    "#Instalamos la librería que nos va a permitir bajar de drive"
   ]
  },
  {
   "cell_type": "code",
   "execution_count": 1,
   "metadata": {
    "id": "SiVeCJoapTEg",
    "outputId": "d5669bfb-80bb-4df6-ed0e-5feef4c7531d"
   },
   "outputs": [
    {
     "name": "stdout",
     "output_type": "stream",
     "text": [
      "Requirement already satisfied: gdown in /opt/conda/lib/python3.7/site-packages (3.12.2)\n",
      "Requirement already satisfied: tqdm in /opt/conda/lib/python3.7/site-packages (from gdown) (4.43.0)\n",
      "Requirement already satisfied: six in /opt/conda/lib/python3.7/site-packages (from gdown) (1.14.0)\n",
      "Requirement already satisfied: requests[socks] in /opt/conda/lib/python3.7/site-packages (from gdown) (2.23.0)\n",
      "Requirement already satisfied: filelock in /opt/conda/lib/python3.7/site-packages (from gdown) (3.0.12)\n",
      "Requirement already satisfied: urllib3!=1.25.0,!=1.25.1,<1.26,>=1.21.1 in /opt/conda/lib/python3.7/site-packages (from requests[socks]->gdown) (1.25.7)\n",
      "Requirement already satisfied: certifi>=2017.4.17 in /opt/conda/lib/python3.7/site-packages (from requests[socks]->gdown) (2019.11.28)\n",
      "Requirement already satisfied: chardet<4,>=3.0.2 in /opt/conda/lib/python3.7/site-packages (from requests[socks]->gdown) (3.0.4)\n",
      "Requirement already satisfied: idna<3,>=2.5 in /opt/conda/lib/python3.7/site-packages (from requests[socks]->gdown) (2.9)\n",
      "Requirement already satisfied: PySocks!=1.5.7,>=1.5.6; extra == \"socks\" in /opt/conda/lib/python3.7/site-packages (from requests[socks]->gdown) (1.7.1)\n"
     ]
    },
    {
     "name": "stderr",
     "output_type": "stream",
     "text": [
      "Downloading...\n",
      "From: https://drive.google.com/uc?id=16OaCBYnHF-OMe784Trvpi-DQoEMFyBLZ\n",
      "To: /home/slbejaranom/work/home/ConteoEIdentificacionDeTrafico/Datasets/TipoVehiculo.rar\n",
      "3.97GB [09:18, 7.11MB/s]\n"
     ]
    },
    {
     "data": {
      "text/plain": [
       "'../Datasets/TipoVehiculo.rar'"
      ]
     },
     "execution_count": 1,
     "metadata": {},
     "output_type": "execute_result"
    }
   ],
   "source": [
    "!pip install gdown\n",
    "import gdown\n",
    "#Colocamos la URL del archivo\n",
    "url = 'https://drive.google.com/uc?id=16OaCBYnHF-OMe784Trvpi-DQoEMFyBLZ'\n",
    "#Colocamos el nombre al archivo donde la información será guardada\n",
    "Nombre = '../Datasets/TipoVehiculo.rar'\n",
    "#Lo descargamos\n",
    "gdown.download(url,Nombre,quiet=False)"
   ]
  },
  {
   "cell_type": "code",
   "execution_count": 3,
   "metadata": {
    "id": "mj8Rkqn_pTEq",
    "outputId": "dc1bb7af-33ad-47a4-a17f-d6eb74a2bb6e"
   },
   "outputs": [
    {
     "name": "stdout",
     "output_type": "stream",
     "text": [
      "Requirement already satisfied: patool in /opt/conda/lib/python3.7/site-packages (1.12)\n",
      "Requirement already satisfied: pyunpack in /opt/conda/lib/python3.7/site-packages (0.2.2)\n",
      "Requirement already satisfied: entrypoint2 in /opt/conda/lib/python3.7/site-packages (from pyunpack) (0.2.3)\n",
      "Requirement already satisfied: easyprocess in /opt/conda/lib/python3.7/site-packages (from pyunpack) (0.3)\n",
      "Requirement already satisfied: argparse in /opt/conda/lib/python3.7/site-packages (from entrypoint2->pyunpack) (1.4.0)\n",
      "Extraído satisfactoriamente\n"
     ]
    }
   ],
   "source": [
    "#Una vez descargado lo extraemos, para eso hacemos uso de las librerías patool y pyunpack\n",
    "!pip install patool pyunpack\n",
    "from pyunpack import Archive\n",
    "\n",
    "#Extraemos\n",
    "Archive('../Datasets/TipoVehiculo.rar').extractall('../Datasets')\n",
    "print(\"Extraído satisfactoriamente\")"
   ]
  },
  {
   "cell_type": "code",
   "execution_count": 2,
   "metadata": {
    "id": "de0O1KUkpTEx",
    "outputId": "352e4f7a-09e1-4365-f6f0-48f029c206f4"
   },
   "outputs": [
    {
     "name": "stdout",
     "output_type": "stream",
     "text": [
      "Requirement already satisfied: opencv-contrib-python in /opt/conda/lib/python3.7/site-packages (4.4.0.44)\n",
      "Requirement already satisfied: numpy>=1.14.5 in /opt/conda/lib/python3.7/site-packages (from opencv-contrib-python) (1.18.1)\n"
     ]
    }
   ],
   "source": [
    "#Ahora vamos a pasar a la parte sucia, para eso primero instalamos opencv contrib\n",
    "!pip install opencv-contrib-python\n",
    "import cv2\n",
    "import os"
   ]
  },
  {
   "cell_type": "code",
   "execution_count": 3,
   "metadata": {
    "id": "4WMMZkv4pTE5"
   },
   "outputs": [],
   "source": [
    "#Damos el nombre de la carpeta en la que se encuentra el dataset\n",
    "dataset = \"../Datasets/TipoVehiculo\"\n",
    "#Para las clases lo que hacemos es listar los nombres de las carpetas que se encuentran por dentro, se listan en orden alfabético\n",
    "training_names = os.listdir(dataset)\n",
    "\n",
    "#Ahora vamos a tener las variables para todas las imágenes\n",
    "#La variable image_paths guardará las rutas de las imágenes\n",
    "image_paths = []\n",
    "image_classes = []\n",
    "class_id = 0\n",
    "\n",
    "def imglist(path):\n",
    "    return [os.path.join(path,f) for f in os.listdir(path)]\n",
    "\n",
    "for training_name in training_names:\n",
    "    dir = os.path.join(dataset, training_name)\n",
    "    class_path = imglist(dir)\n",
    "    image_paths += class_path\n",
    "    image_classes += [class_id]*len(class_path)\n",
    "    class_id += 1"
   ]
  },
  {
   "cell_type": "code",
   "execution_count": 9,
   "metadata": {
    "id": "dLGVb_jqpTFF"
   },
   "outputs": [],
   "source": [
    "#Ahora crearemos una lista para tener la lista de descriptores que hallaremos a partir del SIFT\n",
    "des_list = []\n",
    "#Creamos el extractor SIFT con 50 puntos clave por imagen\n",
    "sift = cv2.SIFT_create(50)\n",
    "#Cogemos cada imagen, le pasamos el SIFT y los apilamos en des_list de la siguiente manera\n",
    "#NOMBRE DEL ARCHIVO, DESCRIPTORES\n",
    "for image_path in image_paths:\n",
    "    im = cv2.imread(image_path)\n",
    "    kpts, des = sift.detectAndCompute(im, None)\n",
    "    del im\n",
    "    des_list.append((image_path,des))"
   ]
  },
  {
   "cell_type": "code",
   "execution_count": 10,
   "metadata": {
    "id": "fm4guTPepTFO"
   },
   "outputs": [],
   "source": [
    "#Ahora vamos a apilar todos los descriptores de manera vertical\n",
    "descriptors = des_list[0][1]\n",
    "#Hay que descartar los descriptores que son None\n",
    "for image_path, descriptor in des_list[1:]:\n",
    "    if descriptor is not None:\n",
    "        descriptors = np.vstack((descriptors, descriptor))\n",
    "        \n",
    "#Para hacer K Means es necesario que los datos estén en tipo float por lo que la siguiente linea es necesaria\n",
    "descriptors_float = descriptors.astype(float)"
   ]
  },
  {
   "cell_type": "code",
   "execution_count": 24,
   "metadata": {},
   "outputs": [
    {
     "data": {
      "text/plain": [
       "(854798, 128)"
      ]
     },
     "execution_count": 24,
     "metadata": {},
     "output_type": "execute_result"
    }
   ],
   "source": [
    "np.shape(descriptors_float)"
   ]
  },
  {
   "cell_type": "markdown",
   "metadata": {
    "id": "EgnKX-mEpTFY"
   },
   "source": [
    "## K Means\n",
    "Acá viene la parte del K Means, en esta sección es necesario el estudio del codo en la gráfica para saber qué valor de K podríamos utilizar que no sea de gasto computacional pero que tampoco quite exactitud"
   ]
  },
  {
   "cell_type": "code",
   "execution_count": 27,
   "metadata": {
    "id": "Z95SF0LNpTFa"
   },
   "outputs": [
    {
     "name": "stdout",
     "output_type": "stream",
     "text": [
      "Con 100 clusters, ya se hizo\n",
      "Con 200 clusters, ya se hizo\n",
      "Con 300 clusters, ya se hizo\n",
      "Con 400 clusters, ya se hizo\n",
      "Con 500 clusters, ya se hizo\n",
      "Con 600 clusters, ya se hizo\n",
      "Con 700 clusters, ya se hizo\n",
      "Con 800 clusters, ya se hizo\n",
      "Con 900 clusters, ya se hizo\n",
      "Con 1000 clusters, ya se hizo\n",
      "Con 1100 clusters, ya se hizo\n",
      "Con 1200 clusters, ya se hizo\n",
      "Con 1300 clusters, ya se hizo\n",
      "Con 1400 clusters, ya se hizo\n",
      "Con 1500 clusters, ya se hizo\n",
      "Con 1600 clusters, ya se hizo\n",
      "Con 1700 clusters, ya se hizo\n",
      "Con 1800 clusters, ya se hizo\n",
      "Con 1900 clusters, ya se hizo\n",
      "Con 2000 clusters, ya se hizo\n",
      "Con 2100 clusters, ya se hizo\n",
      "Con 2200 clusters, ya se hizo\n",
      "Con 2300 clusters, ya se hizo\n",
      "Con 2400 clusters, ya se hizo\n"
     ]
    }
   ],
   "source": [
    "from scipy.cluster.vq import kmeans, vq\n",
    "\n",
    "varianzas = []\n",
    "num_clusters = range(100,2500,100)\n",
    "\n",
    "for k in num_clusters:\n",
    "    centroide, varianza = kmeans(descriptors_float, k, 1)\n",
    "    varianzas.append(varianza)\n",
    "    print(\"Con \"+str(k)+\" clusters, ya se hizo\")\n"
   ]
  },
  {
   "cell_type": "code",
   "execution_count": 29,
   "metadata": {
    "id": "VfnBkT-epTFn",
    "outputId": "882f2dae-cd58-4859-aeeb-079e030d959b"
   },
   "outputs": [
    {
     "data": {
      "image/png": "[encoded data removed]",
      "text/plain": [
       "<Figure size 432x288 with 1 Axes>"
      ]
     },
     "metadata": {
      "needs_background": "light"
     },
     "output_type": "display_data"
    }
   ],
   "source": [
    "elbow_plot_data = pd.DataFrame({'num_clusters':num_clusters,\n",
    "                               'disortions':varianzas})\n",
    "\n",
    "import seaborn as sns\n",
    "from matplotlib import pyplot as plt\n",
    "\n",
    "sns.lineplot(x = 'num_clusters',y = 'disortions', data = elbow_plot_data)\n",
    "\n",
    "plt.xlabel(\"Número de clusters\")\n",
    "plt.ylabel(\"Varianza\")\n",
    "plt.title(\"Varianza según el número de clusters\")\n",
    "plt.show()"
   ]
  },
  {
   "cell_type": "code",
   "execution_count": null,
   "metadata": {
    "id": "8j7mkpPNpTF0"
   },
   "outputs": [],
   "source": [
    "#Con 1000 clusters ya podríamos obtener una buena división ya que luego baja a una tasa más lenta.\n",
    "k = 1500\n",
    "voc, variance = kmeans(descriptors_float,k,2)"
   ]
  },
  {
   "cell_type": "code",
   "execution_count": 34,
   "metadata": {
    "id": "i626a9AHpTGD"
   },
   "outputs": [],
   "source": [
    "#Creamos un vector de características vacío\n",
    "im_features = np.zeros((len(image_paths),k),\"float32\")\n",
    "#Ahora procedemos a obtener los histogramas para cada imagen\n",
    "for i in range(len(image_paths)):\n",
    "    if des_list[i][1] is not None:\n",
    "        words, distance = vq(des_list[i][1],voc)\n",
    "        for w in words:\n",
    "            im_features[i][w] += 1"
   ]
  },
  {
   "cell_type": "code",
   "execution_count": 35,
   "metadata": {
    "id": "JXqYu3JlpTGM"
   },
   "outputs": [],
   "source": [
    "#Hacemos la vectorización Tf-Idf\n",
    "nbr_ocurrences = np.sum((im_features > 0)*1, axis = 0)\n",
    "idf = np.array(np.log((1.0*len(image_paths)+1)/(1.0*nbr_ocurrences + 1)), \"float32\")"
   ]
  },
  {
   "cell_type": "code",
   "execution_count": 36,
   "metadata": {
    "id": "Guf8i_BRpTGZ"
   },
   "outputs": [],
   "source": [
    "#Lo próximo que haremos será normalizar los valores\n",
    "from sklearn.preprocessing import StandardScaler\n",
    "stdSlr = StandardScaler().fit(im_features)\n",
    "im_features = stdSlr.transform(im_features)\n",
    "#Después de esto ya tenemos listo para guardar el archivo CSV"
   ]
  },
  {
   "cell_type": "code",
   "execution_count": 37,
   "metadata": {
    "id": "EY_ultrQpTGj"
   },
   "outputs": [],
   "source": [
    "#Esto lo hacemos para tener salidas y entradas en un mismo arreglo para generar el CSV\n",
    "DataSet = []\n",
    "for i in range(len(image_classes)):\n",
    "    DataSet.append(np.append(im_features[i],image_classes[i]))"
   ]
  },
  {
   "cell_type": "code",
   "execution_count": 38,
   "metadata": {
    "id": "MYpkOoqjpTGr"
   },
   "outputs": [],
   "source": [
    "#Guardamos el dataset\n",
    "pd.DataFrame(DataSet).to_csv(\"DataSet_Tipo.csv\", header=False, index=False)"
   ]
  },
  {
   "cell_type": "code",
   "execution_count": 39,
   "metadata": {
    "id": "1rslBSjjpTG5",
    "outputId": "9df212ad-02b8-4076-c71e-7fde99e584a4"
   },
   "outputs": [
    {
     "name": "stdout",
     "output_type": "stream",
     "text": [
      "Requirement already satisfied: joblib in /opt/conda/lib/python3.7/site-packages (0.14.1)\n"
     ]
    },
    {
     "data": {
      "text/plain": [
       "['Config_BoVW_Tipo.pkl']"
      ]
     },
     "execution_count": 39,
     "metadata": {},
     "output_type": "execute_result"
    }
   ],
   "source": [
    "#Guardamos la configuración (El Standard Scaler y el K con el que hicimos el K Means)\n",
    "!pip install joblib\n",
    "import joblib\n",
    "joblib.dump((stdSlr,k,voc),\"Config_BoVW_Tipo.pkl\",compress = 3)"
   ]
  },
  {
   "cell_type": "code",
   "execution_count": null,
   "metadata": {
    "id": "aaFVg9rdpTHI"
   },
   "outputs": [],
   "source": []
  }
 ],
 "metadata": {
  "colab": {
   "collapsed_sections": [],
   "name": "BoVW_Dataset_Tipo.ipynb",
   "provenance": []
  },
  "kernelspec": {
   "display_name": "Python 3",
   "language": "python",
   "name": "python3"
  },
  "language_info": {
   "codemirror_mode": {
    "name": "ipython",
    "version": 3
   },
   "file_extension": ".py",
   "mimetype": "text/x-python",
   "name": "python",
   "nbconvert_exporter": "python",
   "pygments_lexer": "ipython3",
   "version": "3.7.6"
  }
 },
 "nbformat": 4,
 "nbformat_minor": 4
}
